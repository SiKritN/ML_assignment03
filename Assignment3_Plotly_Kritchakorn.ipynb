{
  "nbformat": 4,
  "nbformat_minor": 0,
  "metadata": {
    "colab": {
      "provenance": [],
      "authorship_tag": "ABX9TyPzW1dpq3jk2BUIaGXSBhUW",
      "include_colab_link": true
    },
    "kernelspec": {
      "name": "python3",
      "display_name": "Python 3"
    },
    "language_info": {
      "name": "python"
    }
  },
  "cells": [
    {
      "cell_type": "markdown",
      "metadata": {
        "id": "view-in-github",
        "colab_type": "text"
      },
      "source": [
        "<a href=\"https://colab.research.google.com/github/SiKritN/ML_assignment03/blob/main/Assignment3_Plotly_Kritchakorn.ipynb\" target=\"_parent\"><img src=\"https://colab.research.google.com/assets/colab-badge.svg\" alt=\"Open In Colab\"/></a>"
      ]
    },
    {
      "cell_type": "code",
      "execution_count": 1,
      "metadata": {
        "id": "qzQf6gYint92"
      },
      "outputs": [],
      "source": [
        "import pandas as pd\n",
        "import plotly.express as px\n",
        "import plotly.graph_objects as go\n"
      ]
    },
    {
      "cell_type": "code",
      "source": [
        "df = pd.read_csv(\"Delivery truck trip data.csv\")\n",
        "df.head()"
      ],
      "metadata": {
        "id": "Cs7QaBBtn0bH"
      },
      "execution_count": null,
      "outputs": []
    },
    {
      "cell_type": "code",
      "source": [
        "df.info()"
      ],
      "metadata": {
        "id": "BjVSiRnZn3nP"
      },
      "execution_count": null,
      "outputs": []
    },
    {
      "cell_type": "code",
      "source": [
        "df.dropna(subset=[\"Driver_Name\"], inplace=True)"
      ],
      "metadata": {
        "id": "rnis2gXxn4-7"
      },
      "execution_count": null,
      "outputs": []
    },
    {
      "cell_type": "code",
      "source": [
        "df.info()"
      ],
      "metadata": {
        "id": "j79kKs78n5wY"
      },
      "execution_count": null,
      "outputs": []
    },
    {
      "cell_type": "code",
      "source": [
        "ontime_counts = df[df[\"ontime\"] == \"G\"].groupby(\"Driver_Name\").size()\n",
        "delay_counts = df[df[\"delay\"] == \"R\"].groupby(\"Driver_Name\").size()\n"
      ],
      "metadata": {
        "id": "r70i4RjHn7FR"
      },
      "execution_count": null,
      "outputs": []
    },
    {
      "cell_type": "code",
      "source": [
        "top_delayed = delay_counts.nlargest(6)\n",
        "print(top_delayed)\n"
      ],
      "metadata": {
        "id": "1lE3lUcxn9B2"
      },
      "execution_count": null,
      "outputs": []
    },
    {
      "cell_type": "code",
      "source": [
        "fig = go.Figure([go.Bar(x=top_delayed.index, y=top_delayed.values)])\n",
        "fig.update_layout(title='Top 6 Delayed Names', xaxis_title='Name', yaxis_title='Number of Delays')\n",
        "fig.show()"
      ],
      "metadata": {
        "id": "AI3bzw0dn_8H"
      },
      "execution_count": null,
      "outputs": []
    }
  ]
}